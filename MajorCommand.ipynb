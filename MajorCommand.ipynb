{
 "cells": [
  {
   "cell_type": "markdown",
   "metadata": {},
   "source": [
    "# Major Command Calculator"
   ]
  },
  {
   "cell_type": "markdown",
   "metadata": {},
   "source": [
    "### Rules of Dice Rolls\n",
    "During the assault phase of a player's turn, they may choose to attack a neighboring enemy's (or teammate's) territory.  Attacks can only happen along borders. In a given assualt, let's assume there is an attacker with $M$ troops attacking and a defender with $N$ troops defending. (Note that at least 2 troops are needed to attack). \n",
    "\n",
    "To decide the outcome of the single assault, the attacker and defender both roll dice. The attacker gets ${\\rm min}(3,M-1)$ dice to roll, while the defender gets ${\\rm min}(2,N)$.  After the dice are rolled, the attacker's highest dice roll is matched up against the defender's highest, and if applicable, the attacker's second highest with the defender's second die. For each dice match-up, if the attacker's die is higher than the defender's, the defender loses a troop.  If the attacker's die is equal to or lower than the defender's, the attacker loses a troop.  Let's go through an example in gory detail:\n",
    "\n",
    "Suppose the attacker has 4 troops and the defender has 2.  Using the formulae above, the attacker gets 3 dice and the defender gets 2.  Let's say the attacker rolls (6,3,1) and the defender rolls (4,3).  We start by matching up the highest rolls: The attacker's 6 versus the defender's 4. Since 6 is greater than 4, the defender loses a troop. Now we match up the next highest dice: attacker's 3 versus defender's 3.  Tie always goes to the defender, so the attacker loses a troop.  This ends the assault and the attacker is left with 3 troops and the defender, 1.  \n",
    "\n",
    "Now suppose the attacker attacks again. The attacker gets 2 dice, and the defender gets 1.  If the attacker gets a higher roll on either of their dice than the defender's one, the defender is vanquished.  If not, the attacker loses a troop.  Let's suppose the attacker loses a troop and is now down to 2 troops.  If they attack again, it's one die versus one die and if the attacker gets a higher roll, they win.  Otherwise the attacker loses a troop and is down to one!\n",
    "\n",
    "Okay, that's the theory.  Now it's time to actually calculate!  We'll start by defining some useful stuff:"
   ]
  },
  {
   "cell_type": "code",
   "execution_count": 44,
   "metadata": {},
   "outputs": [],
   "source": [
    "# imports\n",
    "import numpy as np\n",
    "from matplotlib import pyplot as plt\n",
    "%matplotlib inline\n",
    "\n",
    "# Create a Region class that essentially holds troop number\n",
    "class Region:\n",
    "    def __init__(self, N):\n",
    "        \"\"\"Number of troops is N.  Must be integer\"\"\"\n",
    "        self.N = N\n",
    "        \n",
    "    def loss(self):\n",
    "        self.N = self.N - 1\n",
    "    \n",
    "    @property\n",
    "    def dead(self):\n",
    "        return self.N == 0 \n",
    "\n",
    "# function to simulate a dice roll and subsequent troop losses\n",
    "def assault(attacker,defender):\n",
    "    \n",
    "    # figure out number of dice for attacker and defender\n",
    "    ndice1,ndice2 = min(3,attacker.N-1), min(2,defender.N)\n",
    "    \n",
    "    # roll the dice and sort them from largest to smallest\n",
    "    rolls1 = np.sort(np.random.randint(1,7,size=ndice1))[::-1]\n",
    "    rolls2 = np.sort(np.random.randint(1,7,size=ndice2))[::-1]\n",
    "    for d in range(min(ndice1,ndice2)):\n",
    "        if rolls1[d] > rolls2[d]:\n",
    "            defender.loss()\n",
    "        else:\n",
    "            attacker.loss()\n",
    "        if ((attacker.N == 1) or (defender.N == 0)):\n",
    "            return True\n",
    "    return False\n",
    "\n",
    "def blitz(attacker,defender,troops_left = 3):\n",
    "    stop = False\n",
    "    while ((attacker.N > troops_left) and (stop==False)):\n",
    "        stop = assault(attacker,defender)\n",
    "        \n",
    "            \n",
    "def p_win_whole_battle(M,N,troops_left=3):\n",
    "    n_exp = 1000 # number of Monte Carlo iterations\n",
    "    nwins = 0\n",
    "    for i in range(n_exp):\n",
    "        attacker = Region(M)\n",
    "        defender = Region(N)\n",
    "        blitz(attacker,defender,troops_left=troops_left)\n",
    "        if defender.dead:\n",
    "            nwins = nwins +1\n",
    "    return float(nwins)/n_exp"
   ]
  },
  {
   "cell_type": "markdown",
   "metadata": {},
   "source": [
    "With these definitions we can calculate various probabilities by \"Monte Carlo\" -- i.e. we run many many simulations of assualts and look at how many of simulations give a certain outcome.  Let's start with a simple case.  If an attacker with $M$ troops blitzes $3$ troops, what's the probability the defender is eliminated? Let's assume the attacker does a \"full blitz\", i.e. they are willing to deplete down to 1 troop. First let's simulate this assault a bunch of times:"
   ]
  },
  {
   "cell_type": "code",
   "execution_count": 29,
   "metadata": {},
   "outputs": [],
   "source": [
    "n_exp = 1000 # number of Monte Carlo iterations\n",
    "troops_left = 1\n",
    "N = 3\n",
    "Ms = range(3,10)\n",
    "attackers_left,defenders_left = np.zeros([n_exp,len(Ms)]), np.zeros([n_exp,len(Ms)])\n",
    "for m,M in enumerate(Ms):\n",
    "    for i in range(n_exp):\n",
    "        attacker = Region(M)\n",
    "        defender = Region(N)\n",
    "        blitz(attacker,defender,troops_left=1)\n",
    "        attackers_left[i,m] = attacker.N\n",
    "        defenders_left[i,m] = defender.N\n",
    "        "
   ]
  },
  {
   "cell_type": "markdown",
   "metadata": {},
   "source": [
    "Now plot the probability of having different numbers of attackers and defenders left"
   ]
  },
  {
   "cell_type": "code",
   "execution_count": 31,
   "metadata": {},
   "outputs": [
    {
     "data": {
      "image/png": "[encoded data removed]",
      "text/plain": [
       "<Figure size 576x288 with 2 Axes>"
      ]
     },
     "metadata": {
      "needs_background": "light"
     },
     "output_type": "display_data"
    }
   ],
   "source": [
    "fig,ax = plt.subplots(1,2,figsize=(8,4),sharey=True)\n",
    "for m,M in enumerate(Ms):\n",
    "    ax[0].hist(attackers_left[:,m],bins=np.arange(-1,10)+0.5,label=str(M),histtype='step',density=True)\n",
    "    ax[1].hist(defenders_left[:,m],bins=np.arange(-1,4)+0.5,label=str(M),histtype='step',density=True)\n",
    "ax[1].legend(loc=1)\n",
    "ax[0].set_xlabel('Attackers left')\n",
    "ax[1].set_xlabel('Defenders left')\n",
    "ax[0].set_ylabel('Probability')\n",
    "fig.tight_layout()\n"
   ]
  },
  {
   "cell_type": "markdown",
   "metadata": {},
   "source": [
    "Now let's make a whole grid and see the win probabilities of assaulting, i.e. recreate the table on [this page](https://www.majorcommand.com/wiki/Nature_of_Dice_Luck_and_Streaks)"
   ]
  },
  {
   "cell_type": "code",
   "execution_count": 50,
   "metadata": {},
   "outputs": [],
   "source": [
    "Ms = np.arange(2,10)\n",
    "Ns = np.arange(1,10)\n",
    "pwins = np.zeros([len(Ms),len(Ns)])\n",
    "for m,M in enumerate(Ms):\n",
    "    for n,N in enumerate(Ns):\n",
    "        pwins[m,n] = p_win_whole_battle(M,N,troops_left=1)"
   ]
  },
  {
   "cell_type": "code",
   "execution_count": 51,
   "metadata": {},
   "outputs": [
    {
     "data": {
      "text/html": [
       "<div>\n",
       "<style scoped>\n",
       "    .dataframe tbody tr th:only-of-type {\n",
       "        vertical-align: middle;\n",
       "    }\n",
       "\n",
       "    .dataframe tbody tr th {\n",
       "        vertical-align: top;\n",
       "    }\n",
       "\n",
       "    .dataframe thead th {\n",
       "        text-align: right;\n",
       "    }\n",
       "</style>\n",
       "<table border=\"1\" class=\"dataframe\">\n",
       "  <thead>\n",
       "    <tr style=\"text-align: right;\">\n",
       "      <th></th>\n",
       "      <th>1</th>\n",
       "      <th>2</th>\n",
       "      <th>3</th>\n",
       "      <th>4</th>\n",
       "      <th>5</th>\n",
       "      <th>6</th>\n",
       "      <th>7</th>\n",
       "      <th>8</th>\n",
       "    </tr>\n",
       "  </thead>\n",
       "  <tbody>\n",
       "    <tr>\n",
       "      <td>1</td>\n",
       "      <td>0.432</td>\n",
       "      <td>0.762</td>\n",
       "      <td>0.917</td>\n",
       "      <td>0.969</td>\n",
       "      <td>0.986</td>\n",
       "      <td>0.997</td>\n",
       "      <td>0.997</td>\n",
       "      <td>1.000</td>\n",
       "    </tr>\n",
       "    <tr>\n",
       "      <td>2</td>\n",
       "      <td>0.112</td>\n",
       "      <td>0.395</td>\n",
       "      <td>0.661</td>\n",
       "      <td>0.779</td>\n",
       "      <td>0.876</td>\n",
       "      <td>0.920</td>\n",
       "      <td>0.967</td>\n",
       "      <td>0.981</td>\n",
       "    </tr>\n",
       "    <tr>\n",
       "      <td>3</td>\n",
       "      <td>0.022</td>\n",
       "      <td>0.228</td>\n",
       "      <td>0.503</td>\n",
       "      <td>0.648</td>\n",
       "      <td>0.764</td>\n",
       "      <td>0.862</td>\n",
       "      <td>0.890</td>\n",
       "      <td>0.942</td>\n",
       "    </tr>\n",
       "    <tr>\n",
       "      <td>4</td>\n",
       "      <td>0.011</td>\n",
       "      <td>0.084</td>\n",
       "      <td>0.313</td>\n",
       "      <td>0.447</td>\n",
       "      <td>0.650</td>\n",
       "      <td>0.771</td>\n",
       "      <td>0.836</td>\n",
       "      <td>0.900</td>\n",
       "    </tr>\n",
       "    <tr>\n",
       "      <td>5</td>\n",
       "      <td>0.003</td>\n",
       "      <td>0.054</td>\n",
       "      <td>0.207</td>\n",
       "      <td>0.316</td>\n",
       "      <td>0.510</td>\n",
       "      <td>0.653</td>\n",
       "      <td>0.722</td>\n",
       "      <td>0.822</td>\n",
       "    </tr>\n",
       "    <tr>\n",
       "      <td>6</td>\n",
       "      <td>0.000</td>\n",
       "      <td>0.018</td>\n",
       "      <td>0.144</td>\n",
       "      <td>0.262</td>\n",
       "      <td>0.389</td>\n",
       "      <td>0.543</td>\n",
       "      <td>0.648</td>\n",
       "      <td>0.749</td>\n",
       "    </tr>\n",
       "    <tr>\n",
       "      <td>7</td>\n",
       "      <td>0.000</td>\n",
       "      <td>0.007</td>\n",
       "      <td>0.067</td>\n",
       "      <td>0.195</td>\n",
       "      <td>0.286</td>\n",
       "      <td>0.403</td>\n",
       "      <td>0.552</td>\n",
       "      <td>0.661</td>\n",
       "    </tr>\n",
       "    <tr>\n",
       "      <td>8</td>\n",
       "      <td>0.000</td>\n",
       "      <td>0.005</td>\n",
       "      <td>0.063</td>\n",
       "      <td>0.120</td>\n",
       "      <td>0.218</td>\n",
       "      <td>0.317</td>\n",
       "      <td>0.440</td>\n",
       "      <td>0.565</td>\n",
       "    </tr>\n",
       "    <tr>\n",
       "      <td>9</td>\n",
       "      <td>0.000</td>\n",
       "      <td>0.001</td>\n",
       "      <td>0.042</td>\n",
       "      <td>0.088</td>\n",
       "      <td>0.175</td>\n",
       "      <td>0.268</td>\n",
       "      <td>0.347</td>\n",
       "      <td>0.472</td>\n",
       "    </tr>\n",
       "  </tbody>\n",
       "</table>\n",
       "</div>"
      ],
      "text/plain": [
       "       1      2      3      4      5      6      7      8\n",
       "1  0.432  0.762  0.917  0.969  0.986  0.997  0.997  1.000\n",
       "2  0.112  0.395  0.661  0.779  0.876  0.920  0.967  0.981\n",
       "3  0.022  0.228  0.503  0.648  0.764  0.862  0.890  0.942\n",
       "4  0.011  0.084  0.313  0.447  0.650  0.771  0.836  0.900\n",
       "5  0.003  0.054  0.207  0.316  0.510  0.653  0.722  0.822\n",
       "6  0.000  0.018  0.144  0.262  0.389  0.543  0.648  0.749\n",
       "7  0.000  0.007  0.067  0.195  0.286  0.403  0.552  0.661\n",
       "8  0.000  0.005  0.063  0.120  0.218  0.317  0.440  0.565\n",
       "9  0.000  0.001  0.042  0.088  0.175  0.268  0.347  0.472"
      ]
     },
     "execution_count": 51,
     "metadata": {},
     "output_type": "execute_result"
    }
   ],
   "source": [
    "import pandas as pd\n",
    "pd.DataFrame(pwins.T, columns=Ms-1, index=Ns) # use Ms-1 here to match definitions in the MajorCommand instructions\n"
   ]
  },
  {
   "cell_type": "code",
   "execution_count": null,
   "metadata": {},
   "outputs": [],
   "source": []
  }
 ],
 "metadata": {
  "kernelspec": {
   "display_name": "Python 3",
   "language": "python",
   "name": "python3"
  },
  "language_info": {
   "codemirror_mode": {
    "name": "ipython",
    "version": 3
   },
   "file_extension": ".py",
   "mimetype": "text/x-python",
   "name": "python",
   "nbconvert_exporter": "python",
   "pygments_lexer": "ipython3",
   "version": "3.7.4"
  }
 },
 "nbformat": 4,
 "nbformat_minor": 2
}
